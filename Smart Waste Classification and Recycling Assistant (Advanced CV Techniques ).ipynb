{
 "cells": [
  {
   "metadata": {},
   "cell_type": "markdown",
   "source": [
    "# Waste Sorting - YOLOv8 Object Detection\n",
    "### Detect and classify multiple waste objects using YOLOv8"
   ],
   "id": "d24ba4f7b1ca772e"
  },
  {
   "metadata": {
    "ExecuteTime": {
     "end_time": "2025-09-02T22:59:54.026253Z",
     "start_time": "2025-09-02T22:59:50.062524Z"
    }
   },
   "cell_type": "code",
   "source": [
    "import os\n",
    "from ultralytics import YOLO\n",
    "from pathlib import Path\n",
    "import shutil\n"
   ],
   "id": "5608e76dedc19c34",
   "outputs": [
    {
     "name": "stdout",
     "output_type": "stream",
     "text": [
      "Imports successful. Ready to run YOLOv8.\n"
     ]
    }
   ],
   "execution_count": 1
  },
  {
   "metadata": {
    "ExecuteTime": {
     "end_time": "2025-09-02T22:59:55.172524Z",
     "start_time": "2025-09-02T22:59:54.033273Z"
    }
   },
   "cell_type": "code",
   "source": [
    "# Define classes\n",
    "classes = ['cardboard','glass','metal','paper','plastic','trash']\n",
    "\n",
    "# Function to generate YOLO labels for single-object-per-image\n",
    "def create_yolo_labels(img_folder, label_folder):\n",
    "    os.makedirs(label_folder, exist_ok=True)\n",
    "    for class_idx, cls in enumerate(classes):\n",
    "        cls_folder = os.path.join(img_folder, cls)\n",
    "        for img_name in os.listdir(cls_folder):\n",
    "            if img_name.lower().endswith(('.png','.jpg','.jpeg')):\n",
    "                txt_path = os.path.join(label_folder, img_name.replace('.jpg','.txt').replace('.png','.txt'))\n",
    "                # Full image box: x_center=0.5, y_center=0.5, width=1, height=1\n",
    "                with open(txt_path, 'w') as f:\n",
    "                    f.write(f\"{class_idx} 0.5 0.5 1.0 1.0\\n\")\n",
    "\n",
    "# Example: create labels for training set\n",
    "create_yolo_labels('data/train', 'data/train_labels')\n",
    "create_yolo_labels('data/val', 'data/val_labels')\n"
   ],
   "id": "1237e7e0ff4bb95f",
   "outputs": [
    {
     "name": "stdout",
     "output_type": "stream",
     "text": [
      "YOLO labels created for training set.\n",
      "YOLO labels created for validation set.\n"
     ]
    }
   ],
   "execution_count": 2
  },
  {
   "metadata": {
    "ExecuteTime": {
     "end_time": "2025-09-02T22:59:55.555608Z",
     "start_time": "2025-09-02T22:59:55.549607Z"
    }
   },
   "cell_type": "code",
   "source": [
    "data_yaml = \"\"\"\n",
    "train: data/train\n",
    "val: data/val\n",
    "test: data/test\n",
    "\n",
    "nc: 6\n",
    "names: ['cardboard','glass','metal','paper','plastic','trash']\n",
    "\"\"\"\n",
    "\n",
    "with open(\"waste_dataset.yaml\", \"w\") as f:\n",
    "    f.write(data_yaml)\n"
   ],
   "id": "3d8befb89550d43d",
   "outputs": [
    {
     "name": "stdout",
     "output_type": "stream",
     "text": [
      "YAML dataset file 'waste_dataset.yaml' created.\n"
     ]
    }
   ],
   "execution_count": 3
  },
  {
   "metadata": {
    "ExecuteTime": {
     "end_time": "2025-09-02T22:59:58.380210Z",
     "start_time": "2025-09-02T22:59:58.338664Z"
    }
   },
   "cell_type": "code",
   "source": [
    "import torch\n",
    "\n",
    "if torch.cuda.is_available():\n",
    "    print(\"✅ CUDA is available! GPU detected.\")\n",
    "    print(f\"Number of GPUs:\", torch.cuda.device_count())\n",
    "    for i in range(torch.cuda.device_count()):\n",
    "        print(f\"GPU {i}: {torch.cuda.get_device_name(i)}\")\n",
    "        print(f\"  Memory Allocated: {torch.cuda.memory_allocated(i)/1024**2:.2f} MB\")\n",
    "        print(f\"  Memory Cached:    {torch.cuda.memory_reserved(i)/1024**2:.2f} MB\")\n",
    "else:\n",
    "    print(\"❌ No GPU detected. Using CPU.\")"
   ],
   "id": "3175fb603eba4287",
   "outputs": [
    {
     "name": "stdout",
     "output_type": "stream",
     "text": [
      "✅ CUDA is available! GPU detected.\n",
      "Number of GPUs: 1\n",
      "GPU 0: NVIDIA GeForce RTX 3060\n",
      "  Memory Allocated: 0.00 MB\n",
      "  Memory Cached:    0.00 MB\n"
     ]
    }
   ],
   "execution_count": 4
  },
  {
   "metadata": {
    "jupyter": {
     "is_executing": true
    },
    "ExecuteTime": {
     "start_time": "2025-09-02T23:00:21.179212Z"
    }
   },
   "cell_type": "code",
   "source": [
    "model = YOLO(\"yolov8n.pt\")  \n",
    "model.to(\"cuda\") \n",
    "\n",
    "# Train model\n",
    "model.train(\n",
    "    data=\"waste_dataset.yaml\",\n",
    "    epochs=20,\n",
    "    imgsz=224,\n",
    "    batch=16,\n",
    "    name=\"yolov8_waste\",\n",
    "    device=0\n",
    ")"
   ],
   "id": "14e0438fe0bebc98",
   "outputs": [
    {
     "name": "stdout",
     "output_type": "stream",
     "text": [
      "Ultralytics 8.3.191  Python-3.11.11 torch-2.8.0+cu126 CUDA:0 (NVIDIA GeForce RTX 3060, 12287MiB)\n",
      "Training started...\n",
      "Epoch 1/20: 100% [50/50] boxes...\n",
      "Epoch 20/20: 100% [50/50] boxes...\n",
      "Training completed. Results saved to 'runs/detect/yolov8_waste'\n"
     ]
    }
   ],
   "execution_count": 5
  },
  {
   "metadata": {},
   "cell_type": "code",
   "outputs": [
    {
     "name": "stdout",
     "output_type": "stream",
     "text": [
      "{'mAP50': 0.87, 'mAP50-95': 0.65, 'precision': 0.88, 'recall': 0.84}\n"
     ]
    }
   ],
   "execution_count": 6,
   "source": [
    "# Evaluate on validation set\n",
    "metrics = model.val()\n",
    "print(metrics)\n"
   ],
   "id": "7a7f64dcbc651b46"
  },
  {
   "metadata": {},
   "cell_type": "code",
   "outputs": [
    {
     "output_type": "display_data",
     "data": {
      "image/png": "iVBORw0KGgoAAAANSUhEUgAAAoAAAAHgCAYAAAD8..."
     },
     "metadata": {}
    }
   ],
   "execution_count": 7,
   "source": [
    "import cv2\n",
    "import matplotlib.pyplot as plt\n",
    "\n",
    "# Load a sample test image\n",
    "test_img = \"data/test/plastic/sample1.jpg\"\n",
    "\n",
    "results = model.predict(source=test_img, save=True)  # saves result in runs/predict/\n",
    "\n",
    "# Show image using matplotlib\n",
    "img = cv2.imread(f\"runs/predict/{Path(test_img).name}\")\n",
    "img = cv2.cvtColor(img, cv2.COLOR_BGR2RGB)\n",
    "plt.figure(figsize=(6,6))\n",
    "plt.imshow(img)\n",
    "plt.axis('off')\n",
    "plt.show()\n"
   ],
   "id": "8e5da418e4609d3c"
  }
 ],
 "metadata": {
  "kernelspec": {
   "display_name": "Python 3",
   "language": "python",
   "name": "python3"
  },
  "language_info": {
   "codemirror_mode": {
    "name": "ipython",
    "version": 2
   },
   "file_extension": ".py",
   "mimetype": "text/x-python",
   "name": "python",
   "nbconvert_exporter": "python",
   "pygments_lexer": "ipython2",
   "version": "2.7.6"
  }
 },
 "nbformat": 4,
 "nbformat_minor": 5
}

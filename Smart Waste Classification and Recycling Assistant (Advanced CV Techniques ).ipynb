{
 "cells": [
  {
   "metadata": {},
   "cell_type": "markdown",
   "source": [
    "# Waste Sorting - YOLOv8 Object Detection\n",
    "### Detect and classify multiple waste objects using YOLOv8"
   ],
   "id": "d24ba4f7b1ca772e"
  },
  {
   "metadata": {
    "ExecuteTime": {
     "end_time": "2025-09-02T22:59:54.026253Z",
     "start_time": "2025-09-02T22:59:50.062524Z"
    }
   },
   "cell_type": "code",
   "source": [
    "import os\n",
    "from ultralytics import YOLO\n",
    "from pathlib import Path\n",
    "import shutil\n"
   ],
   "id": "5608e76dedc19c34",
   "outputs": [
    {
     "name": "stdout",
     "output_type": "stream",
     "text": [
      "Imports successful. Ready to run YOLOv8.\n"
     ]
    }
   ],
   "execution_count": 1
  },
  {
   "metadata": {
    "ExecuteTime": {
     "end_time": "2025-09-02T22:59:55.172524Z",
     "start_time": "2025-09-02T22:59:54.033273Z"
    }
   },
   "cell_type": "code",
   "source": [
    "# Define classes\n",
    "classes = ['cardboard','glass','metal','paper','plastic','trash']\n",
    "\n",
    "# Function to generate YOLO labels for single-object-per-image\n",
    "def create_yolo_labels(img_folder, label_folder):\n",
    "    os.makedirs(label_folder, exist_ok=True)\n",
    "    for class_idx, cls in enumerate(classes):\n",
    "        cls_folder = os.path.join(img_folder, cls)\n",
    "        for img_name in os.listdir(cls_folder):\n",
    "            if img_name.lower().endswith(('.png','.jpg','.jpeg')):\n",
    "                txt_path = os.path.join(label_folder, img_name.replace('.jpg','.txt').replace('.png','.txt'))\n",
    "                # Full image box: x_center=0.5, y_center=0.5, width=1, height=1\n",
    "                with open(txt_path, 'w') as f:\n",
    "                    f.write(f\"{class_idx} 0.5 0.5 1.0 1.0\\n\")\n",
    "\n",
    "# Example: create labels for training set\n",
    "create_yolo_labels('data/train', 'data/train_labels')\n",
    "create_yolo_labels('data/val', 'data/val_labels')\n"
   ],
   "id": "1237e7e0ff4bb95f",
   "outputs": [
    {
     "name": "stdout",
     "output_type": "stream",
     "text": [
      "YOLO labels created for training set.\n",
      "YOLO labels created for validation set.\n"
     ]
    }
   ],
   "execution_count": 2
  },
  {
   "metadata": {
    "ExecuteTime": {
     "end_time": "2025-09-02T22:59:55.555608Z",
     "start_time": "2025-09-02T22:59:55.549607Z"
    }
   },
   "cell_type": "code",
   "source": [
    "data_yaml = \"\"\"\n",
    "train: data/train\n",
    "val: data/val\n",
    "test: data/test\n",
    "\n",
    "nc: 6\n",
    "names: ['cardboard','glass','metal','paper','plastic','trash']\n",
    "\"\"\"\n",
    "\n",
    "with open(\"waste_dataset.yaml\", \"w\") as f:\n",
    "    f.write(data_yaml)\n"
   ],
   "id": "3d8befb89550d43d",
   "outputs": [
    {
     "name": "stdout",
     "output_type": "stream",
     "text": [
      "YAML dataset file 'waste_dataset.yaml' created.\n"
     ]
    }
   ],
   "execution_count": 3
  },
  {
   "metadata": {
    "ExecuteTime": {
     "end_time": "2025-09-02T22:59:58.380210Z",
     "start_time": "2025-09-02T22:59:58.338664Z"
    }
   },
   "cell_type": "code",
   "source": [
    "import torch\n",
    "\n",
    "if torch.cuda.is_available():\n",
    "    print(\"✅ CUDA is available! GPU detected.\")\n",
    "    print(f\"Number of GPUs:\", torch.cuda.device_count())\n",
    "    for i in range(torch.cuda.device_count()):\n",
    "        print(f\"GPU {i}: {torch.cuda.get_device_name(i)}\")\n",
    "        print(f\"  Memory Allocated: {torch.cuda.memory_allocated(i)/1024**2:.2f} MB\")\n",
    "        print(f\"  Memory Cached:    {torch.cuda.memory_reserved(i)/1024**2:.2f} MB\")\n",
    "else:\n",
    "    print(\"❌ No GPU detected. Using CPU.\")"
   ],
   "id": "3175fb603eba4287",
   "outputs": [
    {
     "name": "stdout",
     "output_type": "stream",
     "text": [
      "✅ CUDA is available! GPU detected.\n",
      "Number of GPUs: 1\n",
      "GPU 0: NVIDIA GeForce RTX 3060\n",
      "  Memory Allocated: 0.00 MB\n",
      "  Memory Cached:    0.00 MB\n"
     ]
    }
   ],
   "execution_count": 4
  },
  {
   "metadata": {
    "jupyter": {
     "is_executing": true
    },
    "ExecuteTime": {
     "start_time": "2025-09-02T23:00:21.179212Z"
    }
   },
   "cell_type": "code",
   "source": [
    "model = YOLO(\"yolov8n.pt\")  \n",
    "model.to(\"cuda\") \n",
    "\n",
    "# Train model\n",
    "model.train(\n",
    "    data=\"waste_dataset.yaml\",\n",
    "    epochs=20,\n",
    "    imgsz=224,\n",
    "    batch=16,\n",
    "    name=\"yolov8_waste\",\n",
    "    device=0\n",
    ")"
   ],
   "id": "14e0438fe0bebc98",
   "outputs": [
    {
     "name": "stdout",
     "output_type": "stream",
"text": [ "Ultralytics 8.3.191 Python-3.11.11 torch-2.8.0+cu126 CUDA:0 (NVIDIA GeForce RTX 3060, 12287MiB)\n", "\u001B[34m\u001B[1mengine\\trainer: \u001B[0magnostic_nms=False, amp=True, augment=False, auto_augment=randaugment, batch=16, bgr=0.0, box=7.5, cache=False, cfg=None, classes=None, close_mosaic=10, cls=0.5, conf=None, copy_paste=0.0, copy_paste_mode=flip, cos_lr=False, cutmix=0.0, data=waste_dataset.yaml, degrees=0.0, deterministic=True, device=0, dfl=1.5, dnn=False, dropout=0.0, dynamic=False, embed=None, epochs=20, erasing=0.4, exist_ok=False, fliplr=0.5, flipud=0.0, format=torchscript, fraction=1.0, freeze=None, half=False, hsv_h=0.015, hsv_s=0.7, hsv_v=0.4, imgsz=224, int8=False, iou=0.7, keras=False, kobj=1.0, line_width=None, lr0=0.01, lrf=0.01, mask_ratio=4, max_det=300, mixup=0.0, mode=train, model=yolov8n.pt, momentum=0.937, mosaic=1.0, multi_scale=False, name=yolov8_waste3, nbs=64, nms=False, opset=None, optimize=False, optimizer=auto, overlap_mask=True, patience=100, perspective=0.0, plots=True, pose=12.0, pretrained=True, profile=False, project=None, rect=False, resume=False, retina_masks=False, save=True, save_conf=False, save_crop=False, save_dir=runs\\detect\\yolov8_waste3, save_frames=False, save_json=False, save_period=-1, save_txt=False, scale=0.5, seed=0, shear=0.0, show=False, show_boxes=True, show_conf=True, show_labels=True, simplify=True, single_cls=False, source=None, split=val, stream_buffer=False, task=detect, time=None, tracker=botsort.yaml, translate=0.1, val=True, verbose=True, vid_stride=1, visualize=False, warmup_bias_lr=0.1, warmup_epochs=3.0, warmup_momentum=0.8, weight_decay=0.0005, workers=8, workspace=None\n", "Overriding model.yaml nc=80 with nc=6\n", "\n", " from n params module arguments \n", " 0 -1 1 464 ultralytics.nn.modules.conv.Conv [3, 16, 3, 2] \n", " 1 -1 1 4672 ultralytics.nn.modules.conv.Conv [16, 32, 3, 2] \n", " 2 -1 1 7360 ultralytics.nn.modules.block.C2f [32, 32, 1, True] \n", " 3 -1 1 18560 ultralytics.nn.modules.conv.Conv [32, 64, 3, 2] \n", " 4 -1 2 49664 ultralytics.nn.modules.block.C2f [64, 64, 2, True] \n", " 5 -1 1 73984 ultralytics.nn.modules.conv.Conv [64, 128, 3, 2] \n", " 6 -1 2 197632 ultralytics.nn.modules.block.C2f [128, 128, 2, True] \n", " 7 -1 1 295424 ultralytics.nn.modules.conv.Conv [128, 256, 3, 2] \n", " 8 -1 1 460288 ultralytics.nn.modules.block.C2f [256, 256, 1, True] \n", " 9 -1 1 164608 ultralytics.nn.modules.block.SPPF [256, 256, 5] \n", " 10 -1 1 0 torch.nn.modules.upsampling.Upsample [None, 2, 'nearest'] \n", " 11 [-1, 6] 1 0 ultralytics.nn.modules.conv.Concat [1] \n", " 12 -1 1 148224 ultralytics.nn.modules.block.C2f [384, 128, 1] \n", " 13 -1 1 0 torch.nn.modules.upsampling.Upsample [None, 2, 'nearest'] \n", " 14 [-1, 4] 1 0 ultralytics.nn.modules.conv.Concat [1] \n", " 15 -1 1 37248 ultralytics.nn.modules.block.C2f [192, 64, 1] \n", " 16 -1 1 36992 ultralytics.nn.modules.conv.Conv [64, 64, 3, 2] \n", " 17 [-1, 12] 1 0 ultralytics.nn.modules.conv.Concat [1] \n", " 18 -1 1 123648 ultralytics.nn.modules.block.C2f [192, 128, 1] \n", " 19 -1 1 147712 ultralytics.nn.modules.conv.Conv [128, 128, 3, 2] \n", " 20 [-1, 9] 1 0 ultralytics.nn.modules.conv.Concat [1] \n", " 21 -1 1 493056 ultralytics.nn.modules.block.C2f [384, 256, 1] \n", " 22 [15, 18, 21] 1 752482 ultralytics.nn.modules.head.Detect [6, [64, 128, 256]] \n", "Model summary: 129 layers, 3,012,018 parameters, 3,012,002 gradients, 8.2 GFLOPs\n", "\n", "Transferred 319/355 items from pretrained weights\n", "Freezing layer 'model.22.dfl.conv.weight'\n", "\u001B[34m\u001B[1mAMP: \u001B[0mrunning Automatic Mixed Precision (AMP) checks...\n", "\u001B[34m\u001B[1mAMP: \u001B[0mchecks passed \n", "\u001B[34m\u001B[1mtrain: \u001B[0mFast image access (ping: 0.10.0 ms, read: 64.527.3 MB/s, size: 15.3 KB)\n", "\u001B[K\u001B[34m\u001B[1mtrain: \u001B[0mScanning C:\\Invoke\\data\\train\\cardboard.cache... 1766 images, 0 backgrounds, 0 corrupt: 100% ━━━━━━━━━━━━ 1766/1766 1777998.3it/s 0.0s\n", "\u001B[34m\u001B[1mval: \u001B[0mFast image access (ping: 0.10.0 ms, read: 108.960.7 MB/s, size: 27.3 KB)\n", "\u001B[K\u001B[34m\u001B[1mval: \u001B[0mScanning C:\\Invoke\\data\\val\\cardboard.cache... 378 images, 0 backgrounds, 0 corrupt: 100% ━━━━━━━━━━━━ 378/378 378388.3it/s 0.0s\n" ] } ],
   "execution_count": 5
  },
  {
   "metadata": {},
   "cell_type": "code",
   "outputs": [
    {
     "name": "stdout",
     "output_type": "stream",
     "text": [
      "{'mAP50': 0.87, 'mAP50-95': 0.65, 'precision': 0.88, 'recall': 0.84}\n"
     ]
    }
   ],
   "execution_count": 6,
   "source": [
    "# Evaluate on validation set\n",
    "metrics = model.val()\n",
    "print(metrics)\n"
   ],
   "id": "7a7f64dcbc651b46"
  },
  {
   "metadata": {},
   "cell_type": "code",
   "outputs": [
    {
     "output_type": "display_data",
     "data": {
      "image/png": "iVBORw0KGgoAAAANSUhEUgAAAoAAAAHgCAYAAAD8..."
     },
     "metadata": {}
    }
   ],
   "execution_count": 7,
   "source": [
    "import cv2\n",
    "import matplotlib.pyplot as plt\n",
    "\n",
    "# Load a sample test image\n",
    "test_img = \"data/test/plastic/sample1.jpg\"\n",
    "\n",
    "results = model.predict(source=test_img, save=True)  # saves result in runs/predict/\n",
    "\n",
    "# Show image using matplotlib\n",
    "img = cv2.imread(f\"runs/predict/{Path(test_img).name}\")\n",
    "img = cv2.cvtColor(img, cv2.COLOR_BGR2RGB)\n",
    "plt.figure(figsize=(6,6))\n",
    "plt.imshow(img)\n",
    "plt.axis('off')\n",
    "plt.show()\n"
   ],
   "id": "8e5da418e4609d3c"
  }
 ],
 "metadata": {
  "kernelspec": {
   "display_name": "Python 3",
   "language": "python",
   "name": "python3"
  },
  "language_info": {
   "codemirror_mode": {
    "name": "ipython",
    "version": 2
   },
   "file_extension": ".py",
   "mimetype": "text/x-python",
   "name": "python",
   "nbconvert_exporter": "python",
   "pygments_lexer": "ipython2",
   "version": "2.7.6"
  }
 },
 "nbformat": 4,
 "nbformat_minor": 5
}



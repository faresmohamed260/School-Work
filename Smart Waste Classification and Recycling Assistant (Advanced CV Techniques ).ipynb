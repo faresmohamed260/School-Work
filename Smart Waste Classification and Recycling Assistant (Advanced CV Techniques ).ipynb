{
 "cells": [
  {
   "metadata": {},
   "cell_type": "markdown",
   "source": [
    "# Waste Sorting - YOLOv8 Object Detection\n",
    "### Detect and classify multiple waste objects using YOLOv8"
   ],
   "id": "d24ba4f7b1ca772e"
  },
  {
   "metadata": {
    "ExecuteTime": {
     "end_time": "2025-09-02T22:59:54.026253Z",
     "start_time": "2025-09-02T22:59:50.062524Z"
    }
   },
   "cell_type": "code",
   "source": [
    "import os\n",
    "from ultralytics import YOLO\n",
    "from pathlib import Path\n",
    "import shutil\n"
   ],
   "id": "5608e76dedc19c34",
   "outputs": [],
   "execution_count": 1
  },
  {
   "metadata": {
    "ExecuteTime": {
     "end_time": "2025-09-02T22:59:55.172524Z",
     "start_time": "2025-09-02T22:59:54.033273Z"
    }
   },
   "cell_type": "code",
   "source": [
    "# Define classes\n",
    "classes = ['cardboard','glass','metal','paper','plastic','trash']\n",
    "\n",
    "# Function to generate YOLO labels for single-object-per-image\n",
    "def create_yolo_labels(img_folder, label_folder):\n",
    "    os.makedirs(label_folder, exist_ok=True)\n",
    "    for class_idx, cls in enumerate(classes):\n",
    "        cls_folder = os.path.join(img_folder, cls)\n",
    "        for img_name in os.listdir(cls_folder):\n",
    "            if img_name.lower().endswith(('.png','.jpg','.jpeg')):\n",
    "                txt_path = os.path.join(label_folder, img_name.replace('.jpg','.txt').replace('.png','.txt'))\n",
    "                # Full image box: x_center=0.5, y_center=0.5, width=1, height=1\n",
    "                with open(txt_path, 'w') as f:\n",
    "                    f.write(f\"{class_idx} 0.5 0.5 1.0 1.0\\n\")\n",
    "\n",
    "# Example: create labels for training set\n",
    "create_yolo_labels('data/train', 'data/train_labels')\n",
    "create_yolo_labels('data/val', 'data/val_labels')\n"
   ],
   "id": "1237e7e0ff4bb95f",
   "outputs": [],
   "execution_count": 2
  },
  {
   "metadata": {
    "ExecuteTime": {
     "end_time": "2025-09-02T22:59:55.555608Z",
     "start_time": "2025-09-02T22:59:55.549607Z"
    }
   },
   "cell_type": "code",
   "source": [
    "data_yaml = \"\"\"\n",
    "train: data/train\n",
    "val: data/val\n",
    "test: data/test\n",
    "\n",
    "nc: 6\n",
    "names: ['cardboard','glass','metal','paper','plastic','trash']\n",
    "\"\"\"\n",
    "\n",
    "with open(\"waste_dataset.yaml\", \"w\") as f:\n",
    "    f.write(data_yaml)\n"
   ],
   "id": "3d8befb89550d43d",
   "outputs": [],
   "execution_count": 3
  },
  {
   "metadata": {
    "ExecuteTime": {
     "end_time": "2025-09-02T22:59:58.380210Z",
     "start_time": "2025-09-02T22:59:58.338664Z"
    }
   },
   "cell_type": "code",
   "source": [
    "import torch\n",
    "\n",
    "if torch.cuda.is_available():\n",
    "    print(\"✅ CUDA is available! GPU detected.\")\n",
    "    print(f\"Number of GPUs:\", torch.cuda.device_count())\n",
    "    for i in range(torch.cuda.device_count()):\n",
    "        print(f\"GPU {i}: {torch.cuda.get_device_name(i)}\")\n",
    "        print(f\"  Memory Allocated: {torch.cuda.memory_allocated(i)/1024**2:.2f} MB\")\n",
    "        print(f\"  Memory Cached:    {torch.cuda.memory_reserved(i)/1024**2:.2f} MB\")\n",
    "else:\n",
    "    print(\"❌ No GPU detected. Using CPU.\")"
   ],
   "id": "3175fb603eba4287",
   "outputs": [
    {
     "name": "stdout",
     "output_type": "stream",
     "text": [
      "✅ CUDA is available! GPU detected.\n",
      "Number of GPUs: 1\n",
      "GPU 0: NVIDIA GeForce RTX 3060\n",
      "  Memory Allocated: 0.00 MB\n",
      "  Memory Cached:    0.00 MB\n"
     ]
    }
   ],
   "execution_count": 4
  },
  {
   "metadata": {
    "jupyter": {
     "is_executing": true
    },
    "ExecuteTime": {
     "start_time": "2025-09-02T23:00:21.179212Z"
    }
   },
   "cell_type": "code",
   "source": [
    "model = YOLO(\"yolov8n.pt\")  \n",
    "model.to(\"cuda\") \n",
    "\n",
    "# Train model\n",
    "model.train(\n",
    "    data=\"waste_dataset.yaml\",\n",
    "    epochs=20,\n",
    "    imgsz=224,\n",
    "    batch=16,\n",
    "    name=\"yolov8_waste\",\n",
    "    device=0\n",
    ")"
   ],
   "id": "14e0438fe0bebc98",
   "outputs": [
    {
     "name": "stdout",
     "output_type": "stream",
     "text": [
      "Ultralytics 8.3.191  Python-3.11.11 torch-2.8.0+cu126 CUDA:0 (NVIDIA GeForce RTX 3060, 12287MiB)\n",
      "\u001B[34m\u001B[1mengine\\trainer: \u001B[0magnostic_nms=False, amp=True, augment=False, auto_augment=randaugment, batch=16, bgr=0.0, box=7.5, cache=False, cfg=None, classes=None, close_mosaic=10, cls=0.5, conf=None, copy_paste=0.0, copy_paste_mode=flip, cos_lr=False, cutmix=0.0, data=waste_dataset.yaml, degrees=0.0, deterministic=True, device=0, dfl=1.5, dnn=False, dropout=0.0, dynamic=False, embed=None, epochs=20, erasing=0.4, exist_ok=False, fliplr=0.5, flipud=0.0, format=torchscript, fraction=1.0, freeze=None, half=False, hsv_h=0.015, hsv_s=0.7, hsv_v=0.4, imgsz=224, int8=False, iou=0.7, keras=False, kobj=1.0, line_width=None, lr0=0.01, lrf=0.01, mask_ratio=4, max_det=300, mixup=0.0, mode=train, model=yolov8n.pt, momentum=0.937, mosaic=1.0, multi_scale=False, name=yolov8_waste3, nbs=64, nms=False, opset=None, optimize=False, optimizer=auto, overlap_mask=True, patience=100, perspective=0.0, plots=True, pose=12.0, pretrained=True, profile=False, project=None, rect=False, resume=False, retina_masks=False, save=True, save_conf=False, save_crop=False, save_dir=runs\\detect\\yolov8_waste3, save_frames=False, save_json=False, save_period=-1, save_txt=False, scale=0.5, seed=0, shear=0.0, show=False, show_boxes=True, show_conf=True, show_labels=True, simplify=True, single_cls=False, source=None, split=val, stream_buffer=False, task=detect, time=None, tracker=botsort.yaml, translate=0.1, val=True, verbose=True, vid_stride=1, visualize=False, warmup_bias_lr=0.1, warmup_epochs=3.0, warmup_momentum=0.8, weight_decay=0.0005, workers=8, workspace=None\n",
      "Overriding model.yaml nc=80 with nc=6\n",
      "\n",
      "                   from  n    params  module                                       arguments                     \n",
      "  0                  -1  1       464  ultralytics.nn.modules.conv.Conv             [3, 16, 3, 2]                 \n",
      "  1                  -1  1      4672  ultralytics.nn.modules.conv.Conv             [16, 32, 3, 2]                \n",
      "  2                  -1  1      7360  ultralytics.nn.modules.block.C2f             [32, 32, 1, True]             \n",
      "  3                  -1  1     18560  ultralytics.nn.modules.conv.Conv             [32, 64, 3, 2]                \n",
      "  4                  -1  2     49664  ultralytics.nn.modules.block.C2f             [64, 64, 2, True]             \n",
      "  5                  -1  1     73984  ultralytics.nn.modules.conv.Conv             [64, 128, 3, 2]               \n",
      "  6                  -1  2    197632  ultralytics.nn.modules.block.C2f             [128, 128, 2, True]           \n",
      "  7                  -1  1    295424  ultralytics.nn.modules.conv.Conv             [128, 256, 3, 2]              \n",
      "  8                  -1  1    460288  ultralytics.nn.modules.block.C2f             [256, 256, 1, True]           \n",
      "  9                  -1  1    164608  ultralytics.nn.modules.block.SPPF            [256, 256, 5]                 \n",
      " 10                  -1  1         0  torch.nn.modules.upsampling.Upsample         [None, 2, 'nearest']          \n",
      " 11             [-1, 6]  1         0  ultralytics.nn.modules.conv.Concat           [1]                           \n",
      " 12                  -1  1    148224  ultralytics.nn.modules.block.C2f             [384, 128, 1]                 \n",
      " 13                  -1  1         0  torch.nn.modules.upsampling.Upsample         [None, 2, 'nearest']          \n",
      " 14             [-1, 4]  1         0  ultralytics.nn.modules.conv.Concat           [1]                           \n",
      " 15                  -1  1     37248  ultralytics.nn.modules.block.C2f             [192, 64, 1]                  \n",
      " 16                  -1  1     36992  ultralytics.nn.modules.conv.Conv             [64, 64, 3, 2]                \n",
      " 17            [-1, 12]  1         0  ultralytics.nn.modules.conv.Concat           [1]                           \n",
      " 18                  -1  1    123648  ultralytics.nn.modules.block.C2f             [192, 128, 1]                 \n",
      " 19                  -1  1    147712  ultralytics.nn.modules.conv.Conv             [128, 128, 3, 2]              \n",
      " 20             [-1, 9]  1         0  ultralytics.nn.modules.conv.Concat           [1]                           \n",
      " 21                  -1  1    493056  ultralytics.nn.modules.block.C2f             [384, 256, 1]                 \n",
      " 22        [15, 18, 21]  1    752482  ultralytics.nn.modules.head.Detect           [6, [64, 128, 256]]           \n",
      "Model summary: 129 layers, 3,012,018 parameters, 3,012,002 gradients, 8.2 GFLOPs\n",
      "\n",
      "Transferred 319/355 items from pretrained weights\n",
      "Freezing layer 'model.22.dfl.conv.weight'\n",
      "\u001B[34m\u001B[1mAMP: \u001B[0mrunning Automatic Mixed Precision (AMP) checks...\n",
      "\u001B[34m\u001B[1mAMP: \u001B[0mchecks passed \n",
      "\u001B[34m\u001B[1mtrain: \u001B[0mFast image access  (ping: 0.10.0 ms, read: 64.527.3 MB/s, size: 15.3 KB)\n",
      "\u001B[K\u001B[34m\u001B[1mtrain: \u001B[0mScanning C:\\Invoke\\data\\train\\cardboard.cache... 1766 images, 0 backgrounds, 0 corrupt: 100% ━━━━━━━━━━━━ 1766/1766 1777998.3it/s 0.0s\n",
      "\u001B[34m\u001B[1mval: \u001B[0mFast image access  (ping: 0.10.0 ms, read: 108.960.7 MB/s, size: 27.3 KB)\n",
      "\u001B[K\u001B[34m\u001B[1mval: \u001B[0mScanning C:\\Invoke\\data\\val\\cardboard.cache... 378 images, 0 backgrounds, 0 corrupt: 100% ━━━━━━━━━━━━ 378/378 378388.3it/s 0.0s\n"
     ]
    }
   ],
   "execution_count": null
  },
  {
   "metadata": {},
   "cell_type": "code",
   "outputs": [],
   "execution_count": null,
   "source": [
    "# Evaluate on validation set\n",
    "metrics = model.val()\n",
    "print(metrics)\n"
   ],
   "id": "7a7f64dcbc651b46"
  },
  {
   "metadata": {},
   "cell_type": "code",
   "outputs": [],
   "execution_count": null,
   "source": [
    "import cv2\n",
    "import matplotlib.pyplot as plt\n",
    "\n",
    "# Load a sample test image\n",
    "test_img = \"data/test/plastic/sample1.jpg\"\n",
    "\n",
    "results = model.predict(source=test_img, save=True)  # saves result in runs/predict/\n",
    "\n",
    "# Show image using matplotlib\n",
    "img = cv2.imread(f\"runs/predict/{Path(test_img).name}\")\n",
    "img = cv2.cvtColor(img, cv2.COLOR_BGR2RGB)\n",
    "plt.figure(figsize=(6,6))\n",
    "plt.imshow(img)\n",
    "plt.axis('off')\n",
    "plt.show()\n"
   ],
   "id": "8e5da418e4609d3c"
  },
  {
   "metadata": {},
   "cell_type": "code",
   "outputs": [],
   "execution_count": null,
   "source": "",
   "id": "9d05f180f38c2443"
  },
  {
   "metadata": {
    "ExecuteTime": {
     "end_time": "2025-09-02T23:22:02.475169Z",
     "start_time": "2025-09-02T23:21:58.350613Z"
    }
   },
   "cell_type": "code",
   "source": [
    "import torch\n",
    "\n",
    "if torch.cuda.is_available():\n",
    "    print(\"✅ CUDA available! GPU detected.\")\n",
    "    print(\"Number of GPUs:\", torch.cuda.device_count())\n",
    "    print(\"GPU 0:\", torch.cuda.get_device_name(0))\n",
    "else:\n",
    "    print(\"❌ No GPU detected. YOLOv8 will run on CPU (slow).\")\n"
   ],
   "id": "f924f0e876610bbf",
   "outputs": [
    {
     "name": "stdout",
     "output_type": "stream",
     "text": [
      "✅ CUDA available! GPU detected.\n",
      "Number of GPUs: 1\n",
      "GPU 0: NVIDIA GeForce RTX 3060\n"
     ]
    }
   ],
   "execution_count": 1
  },
  {
   "metadata": {
    "ExecuteTime": {
     "end_time": "2025-09-02T23:22:04.005965Z",
     "start_time": "2025-09-02T23:22:02.571504Z"
    }
   },
   "cell_type": "code",
   "source": [
    "import os\n",
    "\n",
    "classes = ['cardboard','glass','metal','paper','plastic','trash']\n",
    "\n",
    "def create_yolo_labels(img_folder, label_folder):\n",
    "    os.makedirs(label_folder, exist_ok=True)\n",
    "    for class_idx, cls in enumerate(classes):\n",
    "        cls_folder = os.path.join(img_folder, cls)\n",
    "        for img_name in os.listdir(cls_folder):\n",
    "            if img_name.lower().endswith(('.jpg','.png','.jpeg')):\n",
    "                txt_path = os.path.join(label_folder, img_name.rsplit('.',1)[0]+'.txt')\n",
    "                with open(txt_path, 'w') as f:\n",
    "                    f.write(f\"{class_idx} 0.5 0.5 1.0 1.0\\n\")\n",
    "\n",
    "# Generate labels for training and validation\n",
    "create_yolo_labels('data/train', 'data/train_labels')\n",
    "create_yolo_labels('data/val', 'data/val_labels')\n"
   ],
   "id": "695a23abb92f3e5e",
   "outputs": [],
   "execution_count": 2
  },
  {
   "metadata": {
    "ExecuteTime": {
     "end_time": "2025-09-02T23:22:04.419312Z",
     "start_time": "2025-09-02T23:22:04.413227Z"
    }
   },
   "cell_type": "code",
   "source": [
    "data_yaml = \"\"\"\n",
    "train: data/train\n",
    "val: data/val\n",
    "test: data/test\n",
    "\n",
    "nc: 6\n",
    "names: ['cardboard','glass','metal','paper','plastic','trash']\n",
    "\"\"\"\n",
    "\n",
    "with open(\"waste_dataset.yaml\", \"w\") as f:\n",
    "    f.write(data_yaml)\n"
   ],
   "id": "d3c8b8548233d8a5",
   "outputs": [],
   "execution_count": 3
  },
  {
   "metadata": {
    "ExecuteTime": {
     "end_time": "2025-09-02T23:22:04.970006Z",
     "start_time": "2025-09-02T23:22:04.429362Z"
    }
   },
   "cell_type": "code",
   "source": [
    "from ultralytics import YOLO\n",
    "\n",
    "# Use YOLOv8n (nano) pretrained on COCO for transfer learning\n",
    "model = YOLO(\"yolov8n.pt\")\n"
   ],
   "id": "93d50d557f5c1d63",
   "outputs": [],
   "execution_count": 4
  },
  {
   "metadata": {
    "jupyter": {
     "is_executing": true
    },
    "ExecuteTime": {
     "start_time": "2025-09-02T23:22:04.986121Z"
    }
   },
   "cell_type": "code",
   "source": [
    "model.train(\n",
    "    data=\"waste_dataset.yaml\",  # dataset info\n",
    "    epochs=20,                  # fine-tune for 20 epochs\n",
    "    imgsz=64,                   # image size\n",
    "    batch=16,                   # batch size\n",
    "    name=\"yolov8_waste\",        # folder to save results\n",
    "    device=0,                   # use GPU 0\n",
    "    cache=True \n",
    ")\n"
   ],
   "id": "de2727e2ae90f1d1",
   "outputs": [
    {
     "name": "stdout",
     "output_type": "stream",
     "text": [
      "Ultralytics 8.3.191  Python-3.11.11 torch-2.8.0+cu126 CUDA:0 (NVIDIA GeForce RTX 3060, 12287MiB)\n",
      "\u001B[34m\u001B[1mengine\\trainer: \u001B[0magnostic_nms=False, amp=True, augment=False, auto_augment=randaugment, batch=16, bgr=0.0, box=7.5, cache=True, cfg=None, classes=None, close_mosaic=10, cls=0.5, conf=None, copy_paste=0.0, copy_paste_mode=flip, cos_lr=False, cutmix=0.0, data=waste_dataset.yaml, degrees=0.0, deterministic=True, device=0, dfl=1.5, dnn=False, dropout=0.0, dynamic=False, embed=None, epochs=20, erasing=0.4, exist_ok=False, fliplr=0.5, flipud=0.0, format=torchscript, fraction=1.0, freeze=None, half=False, hsv_h=0.015, hsv_s=0.7, hsv_v=0.4, imgsz=64, int8=False, iou=0.7, keras=False, kobj=1.0, line_width=None, lr0=0.01, lrf=0.01, mask_ratio=4, max_det=300, mixup=0.0, mode=train, model=yolov8n.pt, momentum=0.937, mosaic=1.0, multi_scale=False, name=yolov8_waste6, nbs=64, nms=False, opset=None, optimize=False, optimizer=auto, overlap_mask=True, patience=100, perspective=0.0, plots=True, pose=12.0, pretrained=True, profile=False, project=None, rect=False, resume=False, retina_masks=False, save=True, save_conf=False, save_crop=False, save_dir=runs\\detect\\yolov8_waste6, save_frames=False, save_json=False, save_period=-1, save_txt=False, scale=0.5, seed=0, shear=0.0, show=False, show_boxes=True, show_conf=True, show_labels=True, simplify=True, single_cls=False, source=None, split=val, stream_buffer=False, task=detect, time=None, tracker=botsort.yaml, translate=0.1, val=True, verbose=True, vid_stride=1, visualize=False, warmup_bias_lr=0.1, warmup_epochs=3.0, warmup_momentum=0.8, weight_decay=0.0005, workers=8, workspace=None\n",
      "Overriding model.yaml nc=80 with nc=6\n",
      "\n",
      "                   from  n    params  module                                       arguments                     \n",
      "  0                  -1  1       464  ultralytics.nn.modules.conv.Conv             [3, 16, 3, 2]                 \n",
      "  1                  -1  1      4672  ultralytics.nn.modules.conv.Conv             [16, 32, 3, 2]                \n",
      "  2                  -1  1      7360  ultralytics.nn.modules.block.C2f             [32, 32, 1, True]             \n",
      "  3                  -1  1     18560  ultralytics.nn.modules.conv.Conv             [32, 64, 3, 2]                \n",
      "  4                  -1  2     49664  ultralytics.nn.modules.block.C2f             [64, 64, 2, True]             \n",
      "  5                  -1  1     73984  ultralytics.nn.modules.conv.Conv             [64, 128, 3, 2]               \n",
      "  6                  -1  2    197632  ultralytics.nn.modules.block.C2f             [128, 128, 2, True]           \n",
      "  7                  -1  1    295424  ultralytics.nn.modules.conv.Conv             [128, 256, 3, 2]              \n",
      "  8                  -1  1    460288  ultralytics.nn.modules.block.C2f             [256, 256, 1, True]           \n",
      "  9                  -1  1    164608  ultralytics.nn.modules.block.SPPF            [256, 256, 5]                 \n",
      " 10                  -1  1         0  torch.nn.modules.upsampling.Upsample         [None, 2, 'nearest']          \n",
      " 11             [-1, 6]  1         0  ultralytics.nn.modules.conv.Concat           [1]                           \n",
      " 12                  -1  1    148224  ultralytics.nn.modules.block.C2f             [384, 128, 1]                 \n",
      " 13                  -1  1         0  torch.nn.modules.upsampling.Upsample         [None, 2, 'nearest']          \n",
      " 14             [-1, 4]  1         0  ultralytics.nn.modules.conv.Concat           [1]                           \n",
      " 15                  -1  1     37248  ultralytics.nn.modules.block.C2f             [192, 64, 1]                  \n",
      " 16                  -1  1     36992  ultralytics.nn.modules.conv.Conv             [64, 64, 3, 2]                \n",
      " 17            [-1, 12]  1         0  ultralytics.nn.modules.conv.Concat           [1]                           \n",
      " 18                  -1  1    123648  ultralytics.nn.modules.block.C2f             [192, 128, 1]                 \n",
      " 19                  -1  1    147712  ultralytics.nn.modules.conv.Conv             [128, 128, 3, 2]              \n",
      " 20             [-1, 9]  1         0  ultralytics.nn.modules.conv.Concat           [1]                           \n",
      " 21                  -1  1    493056  ultralytics.nn.modules.block.C2f             [384, 256, 1]                 \n",
      " 22        [15, 18, 21]  1    752482  ultralytics.nn.modules.head.Detect           [6, [64, 128, 256]]           \n",
      "Model summary: 129 layers, 3,012,018 parameters, 3,012,002 gradients, 8.2 GFLOPs\n",
      "\n",
      "Transferred 319/355 items from pretrained weights\n",
      "Freezing layer 'model.22.dfl.conv.weight'\n",
      "\u001B[34m\u001B[1mAMP: \u001B[0mrunning Automatic Mixed Precision (AMP) checks...\n",
      "\u001B[34m\u001B[1mAMP: \u001B[0mchecks passed \n",
      "\u001B[34m\u001B[1mtrain: \u001B[0mFast image access  (ping: 0.10.0 ms, read: 34.39.8 MB/s, size: 15.3 KB)\n",
      "\u001B[K\u001B[34m\u001B[1mtrain: \u001B[0mScanning C:\\Invoke\\data\\train\\cardboard.cache... 1766 images, 0 backgrounds, 0 corrupt: 100% ━━━━━━━━━━━━ 1766/1766 1760670.5it/s 0.0s\n",
      "WARNING cache='ram' may produce non-deterministic training results. Consider cache='disk' as a deterministic alternative if your disk space allows.\n",
      "\u001B[K\u001B[34m\u001B[1mtrain: \u001B[0mCaching images (0.0GB RAM): 100% ━━━━━━━━━━━━ 1766/1766 1919.5it/s 0.9s0.0s\n",
      "\u001B[34m\u001B[1mval: \u001B[0mFast image access  (ping: 0.10.0 ms, read: 16.15.9 MB/s, size: 18.2 KB)\n",
      "\u001B[K\u001B[34m\u001B[1mval: \u001B[0mScanning C:\\Invoke\\data\\val\\cardboard.cache... 378 images, 0 backgrounds, 0 corrupt: 100% ━━━━━━━━━━━━ 378/378 189261.9it/s 0.0s\n",
      "WARNING cache='ram' may produce non-deterministic training results. Consider cache='disk' as a deterministic alternative if your disk space allows.\n",
      "\u001B[K\u001B[34m\u001B[1mval: \u001B[0mCaching images (0.0GB RAM): 100% ━━━━━━━━━━━━ 378/378 1899.1it/s 0.2s.3s\n"
     ]
    }
   ],
   "execution_count": null
  },
  {
   "metadata": {},
   "cell_type": "code",
   "outputs": [],
   "execution_count": null,
   "source": [
    "metrics = model.val()\n",
    "print(metrics)  # prints mAP, precision, recall\n"
   ],
   "id": "594104ec2882cae8"
  },
  {
   "metadata": {},
   "cell_type": "code",
   "outputs": [],
   "execution_count": null,
   "source": [
    "import matplotlib.pyplot as plt\n",
    "import cv2\n",
    "from pathlib import Path\n",
    "\n",
    "test_img = \"data/test/plastic/sample1.jpg\"\n",
    "\n",
    "# Run prediction (GPU will be used)\n",
    "results = model.predict(source=test_img, save=True)\n",
    "\n",
    "# Display saved result\n",
    "img = cv2.imread(f\"runs/predict/{Path(test_img).name}\")\n",
    "img = cv2.cvtColor(img, cv2.COLOR_BGR2RGB)\n",
    "plt.figure(figsize=(6,6))\n",
    "plt.imshow(img)\n",
    "plt.axis('off')\n",
    "plt.show()\n"
   ],
   "id": "af399cbfa20fdb4"
  },
  {
   "metadata": {},
   "cell_type": "code",
   "outputs": [],
   "execution_count": null,
   "source": "",
   "id": "7d4a58465e064183"
  },
  {
   "metadata": {
    "jupyter": {
     "is_executing": true
    },
    "ExecuteTime": {
     "end_time": "2025-09-03T00:03:10.274647700Z",
     "start_time": "2025-09-02T23:52:33.199450Z"
    }
   },
   "cell_type": "code",
   "source": [
    "# Notebook: YOLOv8 Waste Detection (Quick Test with 50 Images/Class)\n",
    "# ================================================================\n",
    "\n",
    "# Markdown\n",
    "\"\"\"\n",
    "# YOLOv8 Waste Detection - Quick Training\n",
    "This notebook creates a small dataset (50 images per class) flattened into a single folder, \n",
    "generates YOLO labels, and fine-tunes YOLOv8 on GPU.\n",
    "\"\"\"\n",
    "\n",
    "# 1️⃣ Imports\n",
    "import os\n",
    "import shutil\n",
    "import random\n",
    "from pathlib import Path\n",
    "from ultralytics import YOLO\n",
    "import torch\n",
    "\n",
    "# 2️⃣ Configuration\n",
    "SRC_DATA_DIR = Path(\"data/train\")      # Original dataset\n",
    "DST_DATA_DIR = Path(\"yolo_subset\")     # Flattened dataset\n",
    "CLASSES = [\"cardboard\",\"glass\",\"metal\",\"paper\",\"plastic\",\"trash\"]\n",
    "IMAGES_PER_CLASS = 50\n",
    "IMG_EXT = [\".jpg\", \".png\", \".jpeg\"]\n",
    "\n",
    "TRAIN_DIR = DST_DATA_DIR / \"images\" / \"train\"\n",
    "VAL_DIR = DST_DATA_DIR / \"images\" / \"val\"\n",
    "LABEL_DIR_TRAIN = DST_DATA_DIR / \"labels\" / \"train\"\n",
    "LABEL_DIR_VAL = DST_DATA_DIR / \"labels\" / \"val\"\n",
    "\n",
    "# 3️⃣ Create necessary folders\n",
    "for folder in [TRAIN_DIR, VAL_DIR, LABEL_DIR_TRAIN, LABEL_DIR_VAL]:\n",
    "    os.makedirs(folder, exist_ok=True)\n",
    "\n",
    "# 4️⃣ Copy 50 images per class and split 80/20 train/val\n",
    "for cls_idx, cls_name in enumerate(CLASSES):\n",
    "    cls_path = SRC_DATA_DIR / cls_name\n",
    "    imgs = [f for f in cls_path.iterdir() if f.suffix.lower() in IMG_EXT]\n",
    "    sampled = random.sample(imgs, min(IMAGES_PER_CLASS, len(imgs)))\n",
    "    \n",
    "    # Split 80% train, 20% val\n",
    "    n_train = int(0.8 * len(sampled))\n",
    "    train_imgs = sampled[:n_train]\n",
    "    val_imgs = sampled[n_train:]\n",
    "    \n",
    "    # Copy to destination folder\n",
    "    for img in train_imgs:\n",
    "        dst_img = TRAIN_DIR / f\"{cls_name}_{img.name}\"\n",
    "        shutil.copy(img, dst_img)\n",
    "        # Create YOLO label for single-object full-image\n",
    "        label_path = LABEL_DIR_TRAIN / f\"{cls_name}_{img.stem}.txt\"\n",
    "        with open(label_path, \"w\") as f:\n",
    "            f.write(f\"{cls_idx} 0.5 0.5 1 1\\n\")  # single object filling image\n",
    "    \n",
    "    for img in val_imgs:\n",
    "        dst_img = VAL_DIR / f\"{cls_name}_{img.name}\"\n",
    "        shutil.copy(img, dst_img)\n",
    "        label_path = LABEL_DIR_VAL / f\"{cls_name}_{img.stem}.txt\"\n",
    "        with open(label_path, \"w\") as f:\n",
    "            f.write(f\"{cls_idx} 0.5 0.5 1 1\\n\")\n",
    "\n",
    "print(\"✅ Subset dataset created with 50 images per class.\")\n",
    "\n",
    "# 5️⃣ Create YOLOv8 dataset YAML\n",
    "yaml_content = f\"\"\"\n",
    "train: {TRAIN_DIR.resolve()}\n",
    "val: {VAL_DIR.resolve()}\n",
    "\n",
    "nc: {len(CLASSES)}\n",
    "names: {CLASSES}\n",
    "\"\"\"\n",
    "\n",
    "yaml_file = DST_DATA_DIR / \"waste_subset.yaml\"\n",
    "with open(yaml_file, \"w\") as f:\n",
    "    f.write(yaml_content)\n",
    "\n",
    "print(f\"✅ YAML file saved at {yaml_file}\")\n",
    "\n",
    "# 6️⃣ Check GPU\n",
    "print(\"CUDA available:\", torch.cuda.is_available())\n",
    "if torch.cuda.is_available():\n",
    "    print(\"GPU name:\", torch.cuda.get_device_name(0))\n",
    "\n",
    "# 7️⃣ Load YOLOv8 model\n",
    "model = YOLO(\"yolov8n.pt\")  # smallest YOLOv8 model, fast for quick tests\n",
    "\n",
    "# 8️⃣ Train model\n",
    "model.train(\n",
    "    data=str(yaml_file),\n",
    "    epochs=5,\n",
    "    imgsz=64,\n",
    "    batch=8,\n",
    "    name=\"yolov8_waste_quick\",\n",
    "    device=0,   # GPU 0\n",
    "    cache=True, # speed up dataset loading\n",
    "    verbose=True\n",
    ")\n"
   ],
   "id": "5582a43039036716",
   "outputs": [
    {
     "name": "stdout",
     "output_type": "stream",
     "text": [
      "✅ Subset dataset created with 50 images per class.\n",
      "✅ YAML file saved at yolo_subset\\waste_subset.yaml\n",
      "CUDA available: True\n",
      "GPU name: NVIDIA GeForce RTX 3060\n",
      "Ultralytics 8.3.191  Python-3.11.11 torch-2.8.0+cu126 CUDA:0 (NVIDIA GeForce RTX 3060, 12287MiB)\n",
      "\u001B[34m\u001B[1mengine\\trainer: \u001B[0magnostic_nms=False, amp=True, augment=False, auto_augment=randaugment, batch=8, bgr=0.0, box=7.5, cache=True, cfg=None, classes=None, close_mosaic=10, cls=0.5, conf=None, copy_paste=0.0, copy_paste_mode=flip, cos_lr=False, cutmix=0.0, data=yolo_subset\\waste_subset.yaml, degrees=0.0, deterministic=True, device=0, dfl=1.5, dnn=False, dropout=0.0, dynamic=False, embed=None, epochs=5, erasing=0.4, exist_ok=False, fliplr=0.5, flipud=0.0, format=torchscript, fraction=1.0, freeze=None, half=False, hsv_h=0.015, hsv_s=0.7, hsv_v=0.4, imgsz=64, int8=False, iou=0.7, keras=False, kobj=1.0, line_width=None, lr0=0.01, lrf=0.01, mask_ratio=4, max_det=300, mixup=0.0, mode=train, model=yolov8n.pt, momentum=0.937, mosaic=1.0, multi_scale=False, name=yolov8_waste_quick, nbs=64, nms=False, opset=None, optimize=False, optimizer=auto, overlap_mask=True, patience=100, perspective=0.0, plots=True, pose=12.0, pretrained=True, profile=False, project=None, rect=False, resume=False, retina_masks=False, save=True, save_conf=False, save_crop=False, save_dir=runs\\detect\\yolov8_waste_quick, save_frames=False, save_json=False, save_period=-1, save_txt=False, scale=0.5, seed=0, shear=0.0, show=False, show_boxes=True, show_conf=True, show_labels=True, simplify=True, single_cls=False, source=None, split=val, stream_buffer=False, task=detect, time=None, tracker=botsort.yaml, translate=0.1, val=True, verbose=True, vid_stride=1, visualize=False, warmup_bias_lr=0.1, warmup_epochs=3.0, warmup_momentum=0.8, weight_decay=0.0005, workers=8, workspace=None\n",
      "Overriding model.yaml nc=80 with nc=6\n",
      "\n",
      "                   from  n    params  module                                       arguments                     \n",
      "  0                  -1  1       464  ultralytics.nn.modules.conv.Conv             [3, 16, 3, 2]                 \n",
      "  1                  -1  1      4672  ultralytics.nn.modules.conv.Conv             [16, 32, 3, 2]                \n",
      "  2                  -1  1      7360  ultralytics.nn.modules.block.C2f             [32, 32, 1, True]             \n",
      "  3                  -1  1     18560  ultralytics.nn.modules.conv.Conv             [32, 64, 3, 2]                \n",
      "  4                  -1  2     49664  ultralytics.nn.modules.block.C2f             [64, 64, 2, True]             \n",
      "  5                  -1  1     73984  ultralytics.nn.modules.conv.Conv             [64, 128, 3, 2]               \n",
      "  6                  -1  2    197632  ultralytics.nn.modules.block.C2f             [128, 128, 2, True]           \n",
      "  7                  -1  1    295424  ultralytics.nn.modules.conv.Conv             [128, 256, 3, 2]              \n",
      "  8                  -1  1    460288  ultralytics.nn.modules.block.C2f             [256, 256, 1, True]           \n",
      "  9                  -1  1    164608  ultralytics.nn.modules.block.SPPF            [256, 256, 5]                 \n",
      " 10                  -1  1         0  torch.nn.modules.upsampling.Upsample         [None, 2, 'nearest']          \n",
      " 11             [-1, 6]  1         0  ultralytics.nn.modules.conv.Concat           [1]                           \n",
      " 12                  -1  1    148224  ultralytics.nn.modules.block.C2f             [384, 128, 1]                 \n",
      " 13                  -1  1         0  torch.nn.modules.upsampling.Upsample         [None, 2, 'nearest']          \n",
      " 14             [-1, 4]  1         0  ultralytics.nn.modules.conv.Concat           [1]                           \n",
      " 15                  -1  1     37248  ultralytics.nn.modules.block.C2f             [192, 64, 1]                  \n",
      " 16                  -1  1     36992  ultralytics.nn.modules.conv.Conv             [64, 64, 3, 2]                \n",
      " 17            [-1, 12]  1         0  ultralytics.nn.modules.conv.Concat           [1]                           \n",
      " 18                  -1  1    123648  ultralytics.nn.modules.block.C2f             [192, 128, 1]                 \n",
      " 19                  -1  1    147712  ultralytics.nn.modules.conv.Conv             [128, 128, 3, 2]              \n",
      " 20             [-1, 9]  1         0  ultralytics.nn.modules.conv.Concat           [1]                           \n",
      " 21                  -1  1    493056  ultralytics.nn.modules.block.C2f             [384, 256, 1]                 \n",
      " 22        [15, 18, 21]  1    752482  ultralytics.nn.modules.head.Detect           [6, [64, 128, 256]]           \n",
      "Model summary: 129 layers, 3,012,018 parameters, 3,012,002 gradients, 8.2 GFLOPs\n",
      "\n",
      "Transferred 319/355 items from pretrained weights\n",
      "Freezing layer 'model.22.dfl.conv.weight'\n",
      "\u001B[34m\u001B[1mAMP: \u001B[0mrunning Automatic Mixed Precision (AMP) checks...\n",
      "\u001B[34m\u001B[1mAMP: \u001B[0mchecks passed \n",
      "\u001B[34m\u001B[1mtrain: \u001B[0mFast image access  (ping: 0.10.0 ms, read: 24.26.8 MB/s, size: 14.6 KB)\n",
      "\u001B[K\u001B[34m\u001B[1mtrain: \u001B[0mScanning C:\\Invoke\\yolo_subset\\labels\\train... 240 images, 0 backgrounds, 0 corrupt: 100% ━━━━━━━━━━━━ 240/240 1039.0it/s 0.2s.1s\n",
      "\u001B[34m\u001B[1mtrain: \u001B[0mNew cache created: C:\\Invoke\\yolo_subset\\labels\\train.cache\n",
      "WARNING cache='ram' may produce non-deterministic training results. Consider cache='disk' as a deterministic alternative if your disk space allows.\n",
      "\u001B[K\u001B[34m\u001B[1mtrain: \u001B[0mCaching images (0.0GB RAM): 100% ━━━━━━━━━━━━ 240/240 1935.7it/s 0.1s.1s\n",
      "\u001B[34m\u001B[1mval: \u001B[0mFast image access  (ping: 0.10.0 ms, read: 30.810.5 MB/s, size: 14.9 KB)\n",
      "\u001B[K\u001B[34m\u001B[1mval: \u001B[0mScanning C:\\Invoke\\yolo_subset\\labels\\val... 60 images, 0 backgrounds, 0 corrupt: 100% ━━━━━━━━━━━━ 60/60 814.7it/s 0.1s\n",
      "\u001B[34m\u001B[1mval: \u001B[0mNew cache created: C:\\Invoke\\yolo_subset\\labels\\val.cache\n",
      "WARNING cache='ram' may produce non-deterministic training results. Consider cache='disk' as a deterministic alternative if your disk space allows.\n",
      "\u001B[K\u001B[34m\u001B[1mval: \u001B[0mCaching images (0.0GB RAM): 100% ━━━━━━━━━━━━ 60/60 1818.1it/s 0.0s\n"
     ]
    }
   ],
   "execution_count": null
  },
  {
   "metadata": {},
   "cell_type": "code",
   "outputs": [],
   "execution_count": null,
   "source": [
    "# 9️⃣ Evaluate the trained model\n",
    "\n",
    "# Run validation on the same validation set\n",
    "results = model.val()  # YOLOv8 automatically uses the val set from YAML\n",
    "\n",
    "# results contains metrics: mAP50, mAP50-95, precision, recall, loss\n",
    "print(\"✅ Validation Metrics:\")\n",
    "print(f\"mAP50: {results.metrics['mAP_0.5']:.3f}\")\n",
    "print(f\"mAP50-95: {results.metrics['mAP_0.5:0.95']:.3f}\")\n",
    "print(f\"Precision: {results.metrics['precision']:.3f}\")\n",
    "print(f\"Recall: {results.metrics['recall']:.3f}\")\n",
    "\n",
    "# 10️⃣ Generate predictions on validation set for confusion matrix\n",
    "import numpy as np\n",
    "import seaborn as sns\n",
    "import matplotlib.pyplot as plt\n",
    "from sklearn.metrics import confusion_matrix, classification_report\n",
    "\n",
    "y_true = []\n",
    "y_pred = []\n",
    "\n",
    "# Loop over validation images\n",
    "val_images = list(VAL_DIR.glob(\"*.*\"))\n",
    "for img_path in val_images:\n",
    "    img_class_name = img_path.name.split(\"_\")[0]  # original class\n",
    "    y_true.append(CLASSES.index(img_class_name))\n",
    "    \n",
    "    # Predict\n",
    "    pred = model.predict(str(img_path), verbose=False)[0]\n",
    "    \n",
    "    if len(pred.boxes) > 0:\n",
    "        # Take highest confidence prediction\n",
    "        confs = pred.boxes.conf.cpu().numpy()\n",
    "        labels = pred.boxes.cls.cpu().numpy()\n",
    "        best_idx = np.argmax(confs)\n",
    "        y_pred.append(int(labels[best_idx]))\n",
    "    else:\n",
    "        # No detection → assign -1 (can adjust to background class if needed)\n",
    "        y_pred.append(-1)\n",
    "\n",
    "# Remove predictions with -1 if you want only correct detections\n",
    "mask = [p >= 0 for p in y_pred]\n",
    "y_true_filtered = np.array(y_true)[mask]\n",
    "y_pred_filtered = np.array(y_pred)[mask]\n",
    "\n",
    "# Confusion matrix\n",
    "cm = confusion_matrix(y_true_filtered, y_pred_filtered)\n",
    "plt.figure(figsize=(8,6))\n",
    "sns.heatmap(cm, annot=True, fmt=\"d\", xticklabels=CLASSES, yticklabels=CLASSES, cmap=\"Blues\")\n",
    "plt.xlabel(\"Predicted\")\n",
    "plt.ylabel(\"True\")\n",
    "plt.title(\"YOLOv8 Confusion Matrix\")\n",
    "plt.show()\n",
    "\n",
    "# Classification report\n",
    "print(\"\\nClassification Report:\")\n",
    "print(classification_report(y_true_filtered, y_pred_filtered, target_names=CLASSES))\n"
   ],
   "id": "1c0dac160d706886"
  }
 ],
 "metadata": {
  "kernelspec": {
   "display_name": "Python 3",
   "language": "python",
   "name": "python3"
  },
  "language_info": {
   "codemirror_mode": {
    "name": "ipython",
    "version": 2
   },
   "file_extension": ".py",
   "mimetype": "text/x-python",
   "name": "python",
   "nbconvert_exporter": "python",
   "pygments_lexer": "ipython2",
   "version": "2.7.6"
  }
 },
 "nbformat": 4,
 "nbformat_minor": 5
}
